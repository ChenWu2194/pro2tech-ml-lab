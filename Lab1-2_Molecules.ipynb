{
 "cells": [
  {
   "cell_type": "markdown",
   "metadata": {},
   "source": [
    "# **2 - Chemical case study**"
   ]
  },
  {
   "cell_type": "markdown",
   "metadata": {},
   "source": [
    "# Building a simple QSPR model using a feed forward neural network in PyTorch [[1](https://www.sciencedirect.com/science/article/pii/S0140700713003861)]"
   ]
  },
  {
   "cell_type": "markdown",
   "metadata": {},
   "source": [
    "Let's get our hands dirty on a chemical engineering example! In the following, we will predict the normal boiling point of pure refrigerants with a QSPR model and an artificial neural network (ANN)."
   ]
  },
  {
   "cell_type": "markdown",
   "metadata": {},
   "source": [
    "In the past decades, several models have been developed to predict properties of molecules by utilizing quantitative structure-property relationship ([QSPR](https://en.wikipedia.org/wiki/Quantitative_structure%E2%80%93activity_relationship)) modeling. In QSPR, the modeling process can be broken down into two steps: First, QSPR models introduce molecular descriptors $D = [d_1, d_2, ..., d_n]^T$ that depend on the structure of a molecule $m$. Second, a regression model $F(D):D → \\hat{p}$ is fitted that predicts a property $\\hat{p}$ as a function of $D$. The regression model is either linear or nonlinear, depending on the QSPR. QSPR models differ in the way they encode the molecular structure. Various descriptors have been used including structural group counts, the number of aromatic bonds, and topological indices, such as the [Wiener Index](https://en.wikipedia.org/wiki/Wiener_index) or branching indices. Development of QSPR models depends on the choice of informative descriptors, a selection process that requires domain knowledge and intuition. For the sake of time, we skip this process and use predefined descriptors. In our case study, the property $\\hat{p}$ is the normal boiling point and the regression model is of course an ANN!"
   ]
  },
  {
   "cell_type": "markdown",
   "metadata": {},
   "source": [
    "---\n",
    "**Increase the model complexity by adding one (or more) hidden layers. "
   ]
  },
  {
   "cell_type": "markdown",
   "metadata": {},
   "source": [
    "Opposite to matlab, we do not have all functionalities pre installed in Python. Therefore, the first step for a project is always to install packages which extend our function library. Here, we install the following packages:\n",
    "- *torch*: The PyTorch package is the most important one for this lab and inherits a variety of useful functions for machine learning.\n",
    "- *scipy*: Package for scientific computing and technical computing with algorithms for optimization, interpolation, statistics, etc..\n",
    "- *matplotlib*: Provides plotting functions similar to matlab.\n",
    "- *tqdm*: Allows to print progress bar of for loops"
   ]
  },
  {
   "cell_type": "code",
   "execution_count": 22,
   "metadata": {},
   "outputs": [
    {
     "name": "stdout",
     "output_type": "stream",
     "text": [
      "Requirement already satisfied: torch in c:\\users\\lschulzebalhor\\appdata\\local\\programs\\python\\python38\\lib\\site-packages (1.10.2)\n",
      "Requirement already satisfied: typing-extensions in c:\\users\\lschulzebalhor\\appdata\\local\\programs\\python\\python38\\lib\\site-packages (from torch) (4.0.1)\n"
     ]
    },
    {
     "name": "stderr",
     "output_type": "stream",
     "text": [
      "WARNING: You are using pip version 21.1.1; however, version 22.0.4 is available.\n",
      "You should consider upgrading via the 'c:\\users\\lschulzebalhor\\appdata\\local\\programs\\python\\python38\\python.exe -m pip install --upgrade pip' command.\n"
     ]
    },
    {
     "name": "stdout",
     "output_type": "stream",
     "text": [
      "Requirement already satisfied: scipy in c:\\users\\lschulzebalhor\\appdata\\local\\programs\\python\\python38\\lib\\site-packages (1.8.0)\n",
      "Requirement already satisfied: numpy<1.25.0,>=1.17.3 in c:\\users\\lschulzebalhor\\appdata\\local\\programs\\python\\python38\\lib\\site-packages (from scipy) (1.20.3)\n"
     ]
    },
    {
     "name": "stderr",
     "output_type": "stream",
     "text": [
      "WARNING: You are using pip version 21.1.1; however, version 22.0.4 is available.\n",
      "You should consider upgrading via the 'c:\\users\\lschulzebalhor\\appdata\\local\\programs\\python\\python38\\python.exe -m pip install --upgrade pip' command.\n"
     ]
    },
    {
     "name": "stdout",
     "output_type": "stream",
     "text": [
      "Requirement already satisfied: matplotlib in c:\\users\\lschulzebalhor\\appdata\\local\\programs\\python\\python38\\lib\\site-packages (3.5.1)\n",
      "Requirement already satisfied: numpy>=1.17 in c:\\users\\lschulzebalhor\\appdata\\local\\programs\\python\\python38\\lib\\site-packages (from matplotlib) (1.20.3)\n",
      "Requirement already satisfied: pyparsing>=2.2.1 in c:\\users\\lschulzebalhor\\appdata\\local\\programs\\python\\python38\\lib\\site-packages (from matplotlib) (3.0.7)\n",
      "Requirement already satisfied: fonttools>=4.22.0 in c:\\users\\lschulzebalhor\\appdata\\local\\programs\\python\\python38\\lib\\site-packages (from matplotlib) (4.29.1)\n"
     ]
    },
    {
     "name": "stderr",
     "output_type": "stream",
     "text": [
      "WARNING: You are using pip version 21.1.1; however, version 22.0.4 is available.\n",
      "You should consider upgrading via the 'c:\\users\\lschulzebalhor\\appdata\\local\\programs\\python\\python38\\python.exe -m pip install --upgrade pip' command.\n"
     ]
    },
    {
     "name": "stdout",
     "output_type": "stream",
     "text": [
      "Requirement already satisfied: packaging>=20.0 in c:\\users\\lschulzebalhor\\appdata\\local\\programs\\python\\python38\\lib\\site-packages (from matplotlib) (21.3)\n",
      "Requirement already satisfied: pillow>=6.2.0 in c:\\users\\lschulzebalhor\\appdata\\local\\programs\\python\\python38\\lib\\site-packages (from matplotlib) (9.0.1)\n",
      "Requirement already satisfied: python-dateutil>=2.7 in c:\\users\\lschulzebalhor\\appdata\\local\\programs\\python\\python38\\lib\\site-packages (from matplotlib) (2.8.2)\n",
      "Requirement already satisfied: cycler>=0.10 in c:\\users\\lschulzebalhor\\appdata\\local\\programs\\python\\python38\\lib\\site-packages (from matplotlib) (0.11.0)\n",
      "Requirement already satisfied: kiwisolver>=1.0.1 in c:\\users\\lschulzebalhor\\appdata\\local\\programs\\python\\python38\\lib\\site-packages (from matplotlib) (1.3.2)\n",
      "Requirement already satisfied: six>=1.5 in c:\\users\\lschulzebalhor\\appdata\\local\\programs\\python\\python38\\lib\\site-packages (from python-dateutil>=2.7->matplotlib) (1.16.0)\n"
     ]
    }
   ],
   "source": [
    "# install dependencies\n",
    "!pip install torch\n",
    "!pip install scipy\n",
    "!pip install matplotlib"
   ]
  },
  {
   "cell_type": "markdown",
   "metadata": {},
   "source": [
    "## 2.1 Python preparation"
   ]
  },
  {
   "cell_type": "markdown",
   "metadata": {},
   "source": [
    "### Import packages"
   ]
  },
  {
   "cell_type": "markdown",
   "metadata": {},
   "source": [
    "In the next step, we import the previously installed packages into our script."
   ]
  },
  {
   "cell_type": "markdown",
   "metadata": {},
   "source": [
    "Additional to the packages from the previous notebook we also need the $StandardScaler$ from scikit-learn for normalization of the dataset and the $DataLoader$ for additional training options. We also use *pandas* to handle the dataset we want to load from an external source."
   ]
  },
  {
   "cell_type": "code",
   "execution_count": 148,
   "metadata": {},
   "outputs": [],
   "source": [
    "from scipy import stats # statistics tool for prob. dens. fun.\n",
    "from sklearn.preprocessing import StandardScaler # normalizes a dataset\n",
    "from sklearn.model_selection import train_test_split # randomly splits a dataset\n",
    "import pandas as pd # pandas package for data manipulation and analysis\n",
    "import numpy as np # numerical calculations in python\n",
    "import matplotlib.pyplot as plt # plotting similar to matlab\n",
    "import torch # PyTorch: the general machine learning framework in Python\n",
    "import torch.nn as nn # the artificial neural network module in PyTorch\n",
    "import torch.optim as optim  # contains optimizers for the backpropagation\n",
    "from torch.utils.data import DataLoader"
   ]
  },
  {
   "cell_type": "markdown",
   "metadata": {},
   "source": [
    "### Set the seed"
   ]
  },
  {
   "cell_type": "markdown",
   "metadata": {},
   "source": [
    "To make our results reproducable, we need to set a so-called \"seed\". Machine Learning includes stochastic processes in the weight/bias initialization and the backpropagation. By setting a seed in the program we make sure that always the same random numbers are chosen. Otherwise, we would get different results everytime we run this script, which is not nice for teaching purposes."
   ]
  },
  {
   "cell_type": "code",
   "execution_count": 149,
   "metadata": {},
   "outputs": [],
   "source": [
    "torch.manual_seed(0)\n",
    "np.random.seed(0)"
   ]
  },
  {
   "cell_type": "markdown",
   "metadata": {},
   "source": [
    "## 2.2 - Prepare dataset"
   ]
  },
  {
   "cell_type": "markdown",
   "metadata": {},
   "source": [
    "The next line reads the dataset from an external .csv file into a Pandas dataframe object."
   ]
  },
  {
   "cell_type": "code",
   "execution_count": 150,
   "metadata": {},
   "outputs": [
    {
     "data": {
      "text/html": [
       "<div>\n",
       "<style scoped>\n",
       "    .dataframe tbody tr th:only-of-type {\n",
       "        vertical-align: middle;\n",
       "    }\n",
       "\n",
       "    .dataframe tbody tr th {\n",
       "        vertical-align: top;\n",
       "    }\n",
       "\n",
       "    .dataframe thead th {\n",
       "        text-align: right;\n",
       "    }\n",
       "</style>\n",
       "<table border=\"1\" class=\"dataframe\">\n",
       "  <thead>\n",
       "    <tr style=\"text-align: right;\">\n",
       "      <th></th>\n",
       "      <th>component</th>\n",
       "      <th>formula</th>\n",
       "      <th>descriptor: R1e+</th>\n",
       "      <th>descriptor: MATS1m</th>\n",
       "      <th>descriptor: X1sol</th>\n",
       "      <th>descriptor: Me</th>\n",
       "      <th>descriptor: ESpm02d</th>\n",
       "      <th>experiment: Tboil /K</th>\n",
       "    </tr>\n",
       "  </thead>\n",
       "  <tbody>\n",
       "    <tr>\n",
       "      <th>0</th>\n",
       "      <td>1,1,1,2,2,3,3,4,4-Nonafluorobutane</td>\n",
       "      <td>C4HF9</td>\n",
       "      <td>0.252</td>\n",
       "      <td>-0.187</td>\n",
       "      <td>1.914</td>\n",
       "      <td>1.31</td>\n",
       "      <td>4.159</td>\n",
       "      <td>288.25</td>\n",
       "    </tr>\n",
       "    <tr>\n",
       "      <th>1</th>\n",
       "      <td>1,1,1,2-Tetrachloro-2-fluoroethane</td>\n",
       "      <td>C2HCl4F</td>\n",
       "      <td>0.240</td>\n",
       "      <td>-0.303</td>\n",
       "      <td>3.664</td>\n",
       "      <td>1.22</td>\n",
       "      <td>3.267</td>\n",
       "      <td>390.15</td>\n",
       "    </tr>\n",
       "    <tr>\n",
       "      <th>2</th>\n",
       "      <td>1,1,1,2-Tetrachloroethane</td>\n",
       "      <td>C2H2Cl4</td>\n",
       "      <td>0.384</td>\n",
       "      <td>-0.400</td>\n",
       "      <td>3.664</td>\n",
       "      <td>1.18</td>\n",
       "      <td>3.077</td>\n",
       "      <td>403.75</td>\n",
       "    </tr>\n",
       "    <tr>\n",
       "      <th>3</th>\n",
       "      <td>1,1,1,2-Tetrafluoroethane</td>\n",
       "      <td>C2H2F4</td>\n",
       "      <td>0.442</td>\n",
       "      <td>-0.400</td>\n",
       "      <td>1.000</td>\n",
       "      <td>1.30</td>\n",
       "      <td>3.270</td>\n",
       "      <td>247.05</td>\n",
       "    </tr>\n",
       "    <tr>\n",
       "      <th>4</th>\n",
       "      <td>1,1,1-Trichloro-2-fluoroethane</td>\n",
       "      <td>C2H2Cl3F</td>\n",
       "      <td>0.442</td>\n",
       "      <td>-0.284</td>\n",
       "      <td>2.750</td>\n",
       "      <td>1.21</td>\n",
       "      <td>3.070</td>\n",
       "      <td>366.00</td>\n",
       "    </tr>\n",
       "    <tr>\n",
       "      <th>...</th>\n",
       "      <td>...</td>\n",
       "      <td>...</td>\n",
       "      <td>...</td>\n",
       "      <td>...</td>\n",
       "      <td>...</td>\n",
       "      <td>...</td>\n",
       "      <td>...</td>\n",
       "      <td>...</td>\n",
       "    </tr>\n",
       "    <tr>\n",
       "      <th>187</th>\n",
       "      <td>2,2,4-Trimethylpentane</td>\n",
       "      <td>C8H18</td>\n",
       "      <td>0.117</td>\n",
       "      <td>1.000</td>\n",
       "      <td>3.417</td>\n",
       "      <td>0.96</td>\n",
       "      <td>3.045</td>\n",
       "      <td>372.37</td>\n",
       "    </tr>\n",
       "    <tr>\n",
       "      <th>188</th>\n",
       "      <td>1,2-Dichloropropane</td>\n",
       "      <td>C3H6Cl2</td>\n",
       "      <td>0.149</td>\n",
       "      <td>-0.167</td>\n",
       "      <td>2.912</td>\n",
       "      <td>1.02</td>\n",
       "      <td>2.630</td>\n",
       "      <td>369.55</td>\n",
       "    </tr>\n",
       "    <tr>\n",
       "      <th>189</th>\n",
       "      <td>1-Chlorobutane</td>\n",
       "      <td>C4H9Cl</td>\n",
       "      <td>0.141</td>\n",
       "      <td>-0.062</td>\n",
       "      <td>2.768</td>\n",
       "      <td>0.98</td>\n",
       "      <td>2.244</td>\n",
       "      <td>351.55</td>\n",
       "    </tr>\n",
       "    <tr>\n",
       "      <th>190</th>\n",
       "      <td>Octane</td>\n",
       "      <td>C8H18</td>\n",
       "      <td>0.103</td>\n",
       "      <td>1.000</td>\n",
       "      <td>3.914</td>\n",
       "      <td>0.96</td>\n",
       "      <td>2.565</td>\n",
       "      <td>398.82</td>\n",
       "    </tr>\n",
       "    <tr>\n",
       "      <th>191</th>\n",
       "      <td>Propyl Acetate</td>\n",
       "      <td>C5H10O2</td>\n",
       "      <td>0.146</td>\n",
       "      <td>-0.300</td>\n",
       "      <td>3.270</td>\n",
       "      <td>1.00</td>\n",
       "      <td>3.030</td>\n",
       "      <td>374.45</td>\n",
       "    </tr>\n",
       "  </tbody>\n",
       "</table>\n",
       "<p>192 rows × 8 columns</p>\n",
       "</div>"
      ],
      "text/plain": [
       "                              component   formula  descriptor: R1e+  \\\n",
       "0    1,1,1,2,2,3,3,4,4-Nonafluorobutane     C4HF9             0.252   \n",
       "1    1,1,1,2-Tetrachloro-2-fluoroethane  C2HCl4F              0.240   \n",
       "2             1,1,1,2-Tetrachloroethane   C2H2Cl4             0.384   \n",
       "3             1,1,1,2-Tetrafluoroethane    C2H2F4             0.442   \n",
       "4        1,1,1-Trichloro-2-fluoroethane  C2H2Cl3F             0.442   \n",
       "..                                  ...       ...               ...   \n",
       "187              2,2,4-Trimethylpentane     C8H18             0.117   \n",
       "188                 1,2-Dichloropropane   C3H6Cl2             0.149   \n",
       "189                      1-Chlorobutane    C4H9Cl             0.141   \n",
       "190                              Octane     C8H18             0.103   \n",
       "191                      Propyl Acetate   C5H10O2             0.146   \n",
       "\n",
       "     descriptor: MATS1m  descriptor: X1sol  descriptor: Me  \\\n",
       "0                -0.187              1.914            1.31   \n",
       "1                -0.303              3.664            1.22   \n",
       "2                -0.400              3.664            1.18   \n",
       "3                -0.400              1.000            1.30   \n",
       "4                -0.284              2.750            1.21   \n",
       "..                  ...                ...             ...   \n",
       "187               1.000              3.417            0.96   \n",
       "188              -0.167              2.912            1.02   \n",
       "189              -0.062              2.768            0.98   \n",
       "190               1.000              3.914            0.96   \n",
       "191              -0.300              3.270            1.00   \n",
       "\n",
       "     descriptor: ESpm02d  experiment: Tboil /K  \n",
       "0                  4.159                288.25  \n",
       "1                  3.267                390.15  \n",
       "2                  3.077                403.75  \n",
       "3                  3.270                247.05  \n",
       "4                  3.070                366.00  \n",
       "..                   ...                   ...  \n",
       "187                3.045                372.37  \n",
       "188                2.630                369.55  \n",
       "189                2.244                351.55  \n",
       "190                2.565                398.82  \n",
       "191                3.030                374.45  \n",
       "\n",
       "[192 rows x 8 columns]"
      ]
     },
     "execution_count": 150,
     "metadata": {},
     "output_type": "execute_result"
    }
   ],
   "source": [
    "# Read the data\n",
    "data = pd.read_table('boiling_point_data.csv', sep=',')\n",
    "data"
   ]
  },
  {
   "cell_type": "markdown",
   "metadata": {},
   "source": [
    "The table contains several refrigerents with different descriptors and their normal boiling point obtained from experiments. The descriptors are the following:\n",
    "| Molecular Descriptor | Descriptor type | Descriptor definition |\n",
    "| --- | --- | --- |\n",
    "| R1e+ | GETAWAY descriptors | R maximal autocorrelation of lag 1/weighted by atomic Sanderson electronegativities |\n",
    "| MATS1m | 2D autocorrelation indices | Moran autocorrelation - lag 1/weighted by atomic masses |\n",
    "| X1sol | Connectivity indices | Solvation connectivity index chi-1 |\n",
    "| Me | Constitutional descriptors | Mean atomic Sanderson electronegativity (scaled on Carbon atom) |\n",
    "| ESpm02d | Edge adjacency indices | Spectral moment 02 from edge adj. matrix weighted by dipole moments |\n"
   ]
  },
  {
   "cell_type": "markdown",
   "metadata": {},
   "source": [
    "We join all descriptors in one array for each molecule. Hence, we get a 2D array. This is our input array *x*. We show examplarily the array that describes the first molecule."
   ]
  },
  {
   "cell_type": "markdown",
   "metadata": {},
   "source": [
    "---\n",
    "**Try out how many descriptors we actually need to make a reasonable prediction:**"
   ]
  },
  {
   "cell_type": "code",
   "execution_count": 182,
   "metadata": {},
   "outputs": [
    {
     "data": {
      "text/plain": [
       "array([ 0.252, -0.187,  1.914])"
      ]
     },
     "execution_count": 182,
     "metadata": {},
     "output_type": "execute_result"
    }
   ],
   "source": [
    "x = np.array(data[['descriptor: R1e+', 'descriptor: MATS1m',\n",
    "                    'descriptor: X1sol', 'descriptor: Me',\n",
    "                    'descriptor: ESpm02d']].values.tolist())\n",
    "x[0]"
   ]
  },
  {
   "cell_type": "markdown",
   "metadata": {},
   "source": [
    "---"
   ]
  },
  {
   "cell_type": "markdown",
   "metadata": {},
   "source": [
    "However, there is a problem if we just concatenate the different descriptors: They have quite different means and variances. This has a negative effect on the training of our ANN. For instance, a descriptor with very high values has a bigger effect than one with values close to 0 even though both might be equallly important. Hence, we need to standardize our dataset."
   ]
  },
  {
   "cell_type": "markdown",
   "metadata": {},
   "source": [
    "First we define a function that can plot the normal distribution for the columns of a 2D array."
   ]
  },
  {
   "cell_type": "code",
   "execution_count": 183,
   "metadata": {},
   "outputs": [],
   "source": [
    "def plot_norm(array):\n",
    "    for n in range(array[0].size): # plot the normal distribution for each descriptor\n",
    "        mu = np.mean(array[:,n]) # get the mean\n",
    "        std = np.std(array[:,n]) # get the standard deviation\n",
    "        input = np.linspace(mu - 3*std, mu + 3*std, 100) # range of 3 st. deviations\n",
    "        plt.plot(input, stats.norm.pdf(input, mu, std)) # plot normal dist of one descriptor\n",
    "    plt.title('Normal distribution')\n",
    "    plt.xlabel('x')\n",
    "    plt.ylabel('y')\n",
    "    plt.show()"
   ]
  },
  {
   "cell_type": "markdown",
   "metadata": {},
   "source": [
    "Then we plot the normal distributions of the raw descriptor data."
   ]
  },
  {
   "cell_type": "code",
   "execution_count": 184,
   "metadata": {},
   "outputs": [
    {
     "data": {
      "image/png": "[encoded data removed]",
      "text/plain": [
       "<Figure size 432x288 with 1 Axes>"
      ]
     },
     "metadata": {
      "needs_background": "light"
     },
     "output_type": "display_data"
    }
   ],
   "source": [
    "plot_norm(x)"
   ]
  },
  {
   "cell_type": "markdown",
   "metadata": {},
   "source": [
    "Now we can use the scikit-learn *StandardScaling* to normalize our data. It normalizes the data to zero mean and a unit variance (standard deviation = 1). This improves the training performance of the neural network. If we plot the normal distribution again, we see that all descriptors share the same distribution now."
   ]
  },
  {
   "cell_type": "code",
   "execution_count": 185,
   "metadata": {},
   "outputs": [
    {
     "data": {
      "image/png": "[encoded data removed]",
      "text/plain": [
       "<Figure size 432x288 with 1 Axes>"
      ]
     },
     "metadata": {
      "needs_background": "light"
     },
     "output_type": "display_data"
    }
   ],
   "source": [
    "st = StandardScaler()\n",
    "x = st.fit_transform(x)\n",
    "plot_norm(x)"
   ]
  },
  {
   "cell_type": "markdown",
   "metadata": {},
   "source": [
    "Our target values for the regression *y* are simply the boiling points obtained from experiments."
   ]
  },
  {
   "cell_type": "code",
   "execution_count": 186,
   "metadata": {},
   "outputs": [],
   "source": [
    "y = data['experiment: Tboil /K'].values"
   ]
  },
  {
   "cell_type": "markdown",
   "metadata": {},
   "source": [
    "We also need to split the dataset in training, validation and test data. In the first step we will split the data in training and remaining dataset. Now since we want the valation and test size to be equal (10% each of overall data), we have to define *val_size=0.5* (that is 50% of remaining data)."
   ]
  },
  {
   "cell_type": "code",
   "execution_count": 187,
   "metadata": {},
   "outputs": [],
   "source": [
    "# first split\n",
    "x_train, x_rem, y_train, y_rem = train_test_split(x, y, train_size=0.7)\n",
    "\n",
    "# second split\n",
    "x_val, x_test, y_val, y_test = train_test_split(x_rem, y_rem, test_size=0.5)"
   ]
  },
  {
   "cell_type": "markdown",
   "metadata": {},
   "source": [
    "Then we transform the numpy arrays into PyTorch tensors. In this notebook we will introduce PyTorch datasets and dataloaders, therefore we do not need to unsqueeze the tensors or change the datatype."
   ]
  },
  {
   "cell_type": "code",
   "execution_count": 188,
   "metadata": {},
   "outputs": [],
   "source": [
    "x_train = torch.Tensor(x_train)\n",
    "y_train = torch.Tensor(y_train)\n",
    "x_val = torch.Tensor(x_val)\n",
    "y_val = torch.Tensor(y_val)\n",
    "x_test = torch.Tensor(x_test)\n",
    "y_test = torch.Tensor(y_test)"
   ]
  },
  {
   "cell_type": "markdown",
   "metadata": {},
   "source": [
    "Pytorch works with *Dataset*s and *DataLoader*s (more information [here](https://pytorch.org/docs/stable/data.html)) to feed minibatches to the model during training. Using the DataLoader allows for advanced training methods. It’s easy to create a dataset from the already created tensors. We print out one example data point, containing the input and output tensor."
   ]
  },
  {
   "cell_type": "code",
   "execution_count": 189,
   "metadata": {},
   "outputs": [
    {
     "data": {
      "text/plain": [
       "(tensor([ 0.1431, -0.1922, -0.4408]), tensor(287.2500))"
      ]
     },
     "execution_count": 189,
     "metadata": {},
     "output_type": "execute_result"
    }
   ],
   "source": [
    "train_set = torch.utils.data.TensorDataset(x_train, y_train)\n",
    "val_set = torch.utils.data.TensorDataset(x_val, y_val)\n",
    "test_set = torch.utils.data.TensorDataset(x_test, y_test)\n",
    "\n",
    "train_set[0]"
   ]
  },
  {
   "cell_type": "markdown",
   "metadata": {},
   "source": [
    "The train_loader will shuffle the data when an epoch has been used to prevent overfitting."
   ]
  },
  {
   "cell_type": "code",
   "execution_count": 190,
   "metadata": {},
   "outputs": [],
   "source": [
    "train_loader = DataLoader(dataset=train_set,\n",
    "                            shuffle=True)\n",
    "val_loader = DataLoader(dataset=val_set,\n",
    "                            shuffle=False)\n",
    "test_loader = DataLoader(dataset=test_set,\n",
    "                            shuffle=False)"
   ]
  },
  {
   "cell_type": "markdown",
   "metadata": {},
   "source": [
    "## 2.3 - Set up neural network"
   ]
  },
  {
   "cell_type": "markdown",
   "metadata": {},
   "source": [
    "Besides the data we also nee to prepare our ANN. Pytorch uses a base model object and adds the layers and activations as other objects in a sequential manner. The first layer must get an input dimensions matching the data, whereas the following can deduce their input size from the previous layer. The output layer then must match the dimension of the target values. We start with a very simple model with a small hidden layer with ReLU activation. Very large networks will overfit, unless some form of regularization is put in place (such as early stopping or drop out). As the output values are continuous rather than class labels, the output dimension is a single neuron with a linear activation. Each ANN class needs a *forward* function which defines, how a signal propagates through the network."
   ]
  },
  {
   "cell_type": "markdown",
   "metadata": {},
   "source": [
    "---\n",
    "**Here you can add one (or more) hidden layers to get a more complex neural network:**"
   ]
  },
  {
   "cell_type": "code",
   "execution_count": 191,
   "metadata": {},
   "outputs": [],
   "source": [
    "# neural network definition\n",
    "class NeuralNetwork(nn.Module):\n",
    "    def __init__(self, n_input, n_hidden, n_output):\n",
    "        super(NeuralNetwork, self).__init__()\n",
    "        self.architecture = nn.Sequential(\n",
    "            # sequential model definition: add up layers & activation functions\n",
    "            nn.Linear(in_features=n_input, out_features=n_hidden), # hidden layer\n",
    "            nn.ReLU(), # activation function\n",
    "            nn.Linear(in_features=n_hidden, out_features=n_output), # output layer\n",
    "        )\n",
    "    def forward(self, x): # feed forward path\n",
    "        out = self.architecture(x)\n",
    "        return out"
   ]
  },
  {
   "cell_type": "markdown",
   "metadata": {},
   "source": [
    "---"
   ]
  },
  {
   "cell_type": "markdown",
   "metadata": {},
   "source": [
    "## 2.4 - Train neural network"
   ]
  },
  {
   "cell_type": "markdown",
   "metadata": {},
   "source": [
    "Before the  network can be trained the loss function and other hyperparameters need to be defined. The loss function is set for the usual mean squared error and the optimizer is stochastic gradient descent with a specific learning rate."
   ]
  },
  {
   "cell_type": "markdown",
   "metadata": {},
   "source": [
    "---\n",
    "**This cell contains all relevant hyperparameters:**"
   ]
  },
  {
   "cell_type": "code",
   "execution_count": 192,
   "metadata": {},
   "outputs": [],
   "source": [
    "#Defining the hyperparameters\n",
    "hidden_size = 10 # Number of neurons in the hidden layer\n",
    "learning_rate = 0.02  # The learning rate for the optimizer\n",
    "epochs = 400"
   ]
  },
  {
   "cell_type": "markdown",
   "metadata": {},
   "source": [
    "---"
   ]
  },
  {
   "cell_type": "markdown",
   "metadata": {},
   "source": [
    "We use the hyperparameters to set up the ANN and the training process."
   ]
  },
  {
   "cell_type": "code",
   "execution_count": 193,
   "metadata": {},
   "outputs": [
    {
     "data": {
      "text/plain": [
       "NeuralNetwork(\n",
       "  (architecture): Sequential(\n",
       "    (0): Linear(in_features=3, out_features=10, bias=True)\n",
       "    (1): ReLU()\n",
       "    (2): Linear(in_features=10, out_features=1, bias=True)\n",
       "  )\n",
       ")"
      ]
     },
     "execution_count": 193,
     "metadata": {},
     "output_type": "execute_result"
    }
   ],
   "source": [
    "input_size = len(x[0]) # The input size should fit our fingerprint size\n",
    "output_size = 1  # The target is only the boiling point, so this will be one\n",
    "net = NeuralNetwork(input_size, hidden_size, output_size)\n",
    "criterion = nn.MSELoss()\n",
    "optimizer = optim.Adam(net.parameters(), lr=learning_rate)\n",
    "net"
   ]
  },
  {
   "cell_type": "markdown",
   "metadata": {},
   "source": [
    "Now comes the actual training of the neural network. We have two loss functions. The training loss and the validation loss. We use the validation loss to detect overfitting and make sure, that the model can generalize to new data."
   ]
  },
  {
   "cell_type": "code",
   "execution_count": 194,
   "metadata": {},
   "outputs": [
    {
     "name": "stderr",
     "output_type": "stream",
     "text": [
      "C:\\Users\\lschulzebalhor\\AppData\\Local\\Programs\\Python\\Python38\\lib\\site-packages\\torch\\nn\\modules\\loss.py:520: UserWarning: Using a target size (torch.Size([1])) that is different to the input size (torch.Size([1, 1])). This will likely lead to incorrect results due to broadcasting. Please ensure they have the same size.\n",
      "  return F.mse_loss(input, target, reduction=self.reduction)\n"
     ]
    },
    {
     "name": "stdout",
     "output_type": "stream",
     "text": [
      "Epoch:   0\t Training loss: 89293.05\t Validation loss:                 67201.07\n",
      "Epoch:  10\t Training loss: 619.90\t Validation loss:                 567.24\n",
      "Epoch:  20\t Training loss: 580.79\t Validation loss:                 475.07\n",
      "Epoch:  30\t Training loss: 595.77\t Validation loss:                 473.67\n",
      "Epoch:  40\t Training loss: 595.48\t Validation loss:                 506.63\n",
      "Epoch:  50\t Training loss: 581.18\t Validation loss:                 596.81\n",
      "Epoch:  60\t Training loss: 622.14\t Validation loss:                 518.68\n",
      "Epoch:  70\t Training loss: 585.79\t Validation loss:                 595.20\n",
      "Epoch:  80\t Training loss: 604.47\t Validation loss:                 482.40\n",
      "Epoch:  90\t Training loss: 641.97\t Validation loss:                 522.28\n",
      "Epoch: 100\t Training loss: 582.07\t Validation loss:                 581.21\n",
      "Epoch: 110\t Training loss: 579.84\t Validation loss:                 464.84\n",
      "Epoch: 120\t Training loss: 582.61\t Validation loss:                 487.93\n",
      "Epoch: 130\t Training loss: 567.05\t Validation loss:                 719.01\n",
      "Epoch: 140\t Training loss: 609.35\t Validation loss:                 590.00\n",
      "Epoch: 150\t Training loss: 598.17\t Validation loss:                 508.43\n",
      "Epoch: 160\t Training loss: 576.33\t Validation loss:                 560.16\n",
      "Epoch: 170\t Training loss: 587.00\t Validation loss:                 497.58\n",
      "Epoch: 180\t Training loss: 600.87\t Validation loss:                 575.22\n",
      "Epoch: 190\t Training loss: 562.02\t Validation loss:                 719.31\n",
      "Epoch: 200\t Training loss: 609.50\t Validation loss:                 530.92\n",
      "Epoch: 210\t Training loss: 587.61\t Validation loss:                 475.71\n",
      "Epoch: 220\t Training loss: 589.05\t Validation loss:                 532.76\n",
      "Epoch: 230\t Training loss: 568.55\t Validation loss:                 649.31\n",
      "Epoch: 240\t Training loss: 587.98\t Validation loss:                 566.58\n",
      "Epoch: 250\t Training loss: 589.99\t Validation loss:                 517.24\n",
      "Epoch: 260\t Training loss: 585.68\t Validation loss:                 710.61\n",
      "Epoch: 270\t Training loss: 580.52\t Validation loss:                 653.59\n",
      "Epoch: 280\t Training loss: 573.79\t Validation loss:                 579.71\n",
      "Epoch: 290\t Training loss: 583.36\t Validation loss:                 482.65\n",
      "Epoch: 300\t Training loss: 584.91\t Validation loss:                 512.28\n",
      "Epoch: 310\t Training loss: 583.39\t Validation loss:                 507.67\n",
      "Epoch: 320\t Training loss: 597.10\t Validation loss:                 564.12\n",
      "Epoch: 330\t Training loss: 606.89\t Validation loss:                 626.64\n",
      "Epoch: 340\t Training loss: 584.75\t Validation loss:                 509.57\n",
      "Epoch: 350\t Training loss: 575.74\t Validation loss:                 471.11\n",
      "Epoch: 360\t Training loss: 626.94\t Validation loss:                 577.63\n",
      "Epoch: 370\t Training loss: 601.62\t Validation loss:                 567.71\n",
      "Epoch: 380\t Training loss: 582.44\t Validation loss:                 522.80\n",
      "Epoch: 390\t Training loss: 556.74\t Validation loss:                 491.72\n"
     ]
    }
   ],
   "source": [
    "train_loss = []\n",
    "val_loss = []\n",
    "\n",
    "for epoch in range(epochs):\n",
    "    \n",
    "    # Training pass\n",
    "    running_loss = 0\n",
    "    for input, target in train_loader:\n",
    "        optimizer.zero_grad() # Initialize the gradients, which will be recorded during the forward pass\n",
    "         \n",
    "        output = net(input) # Forward pass of the mini-batch\n",
    "        loss = criterion(output, target) # Computing the loss\n",
    "        loss.backward() # calculate the backward pass\n",
    "        optimizer.step() # Optimize the weights and bias\n",
    "        running_loss += loss.item()\n",
    "    train_loss.append(running_loss/len(train_loader))\n",
    "        \n",
    "    # Validation pass\n",
    "    running_val_loss = 0\n",
    "    for input_val, labels_val in val_loader:\n",
    "        output_val = net(input_val)\n",
    "        loss_val = criterion(output_val, labels_val)\n",
    "        running_val_loss += loss_val.item()\n",
    "    val_loss.append(running_val_loss/len(val_loader))\n",
    "\n",
    "    if epoch%10 == 0: # after 10 epochs we print the current status\n",
    "        print(\"Epoch: %3i\\t Training loss: %0.2F\\t Validation loss: \\\n",
    "                %0.2F\"%(epoch,(running_loss/len(train_loader)), \n",
    "                (running_val_loss/len(val_loader))))\n"
   ]
  },
  {
   "cell_type": "markdown",
   "metadata": {},
   "source": [
    "Afterwards, we plot the loss to see the training progress. The loss plot shows if adjustments need to be made to the hyperparameters."
   ]
  },
  {
   "cell_type": "code",
   "execution_count": 195,
   "metadata": {},
   "outputs": [
    {
     "data": {
      "image/png": "[encoded data removed]",
      "text/plain": [
       "<Figure size 720x288 with 1 Axes>"
      ]
     },
     "metadata": {
      "needs_background": "light"
     },
     "output_type": "display_data"
    },
    {
     "name": "stdout",
     "output_type": "stream",
     "text": [
      "Final training loss: \n",
      "548.7961939916071\n"
     ]
    }
   ],
   "source": [
    "plt.figure(figsize=(10,4))\n",
    "plt.plot(train_loss, label='training')\n",
    "plt.plot(val_loss, label='validation', linestyle='--')\n",
    "plt.legend()\n",
    "plt.xlabel('epoch')\n",
    "plt.ylabel('loss')\n",
    "plt.title('Loss plot')\n",
    "plt.show()\n",
    "print('Final training loss: ')\n",
    "print(train_loss[-1])"
   ]
  },
  {
   "cell_type": "markdown",
   "metadata": {},
   "source": [
    "## 2.5 - Evaluate neural network"
   ]
  },
  {
   "cell_type": "markdown",
   "metadata": {},
   "source": [
    "In order to evaluate our model we compare the actual boiling point, which was measured in experiments, and the predicted boiling point from our neural network regression."
   ]
  },
  {
   "cell_type": "markdown",
   "metadata": {},
   "source": [
    "We switch to the evaluation mode of the model which turns of features like dropout. Then we get our predicted boiling points."
   ]
  },
  {
   "cell_type": "code",
   "execution_count": 196,
   "metadata": {},
   "outputs": [],
   "source": [
    "with torch.no_grad():\n",
    "    y_pred_train = net(x_train)\n",
    "    y_pred_val = net(x_val)\n",
    "    y_pred_test = net(x_test)"
   ]
  },
  {
   "cell_type": "markdown",
   "metadata": {},
   "source": [
    "Calculating the root mean square error can be done using the pytorch operators. The .item() method converts single element tensors to Python scalers for printing."
   ]
  },
  {
   "cell_type": "markdown",
   "metadata": {},
   "source": [
    "Training mean"
   ]
  },
  {
   "cell_type": "code",
   "execution_count": 197,
   "metadata": {},
   "outputs": [
    {
     "data": {
      "text/plain": [
       "7008.1865234375"
      ]
     },
     "execution_count": 197,
     "metadata": {},
     "output_type": "execute_result"
    }
   ],
   "source": [
    "torch.mean(( y_train - y_pred_train )**2).item()"
   ]
  },
  {
   "cell_type": "markdown",
   "metadata": {},
   "source": [
    "Validation mean"
   ]
  },
  {
   "cell_type": "code",
   "execution_count": 198,
   "metadata": {},
   "outputs": [
    {
     "data": {
      "text/plain": [
       "8097.15087890625"
      ]
     },
     "execution_count": 198,
     "metadata": {},
     "output_type": "execute_result"
    }
   ],
   "source": [
    "torch.mean(( y_val - y_pred_val )**2).item()"
   ]
  },
  {
   "cell_type": "markdown",
   "metadata": {},
   "source": [
    "Test mean"
   ]
  },
  {
   "cell_type": "code",
   "execution_count": 199,
   "metadata": {},
   "outputs": [
    {
     "data": {
      "text/plain": [
       "8249.9052734375"
      ]
     },
     "execution_count": 199,
     "metadata": {},
     "output_type": "execute_result"
    }
   ],
   "source": [
    "torch.mean(( y_test - y_pred_test )**2).item()"
   ]
  },
  {
   "cell_type": "markdown",
   "metadata": {},
   "source": [
    "If the error on the held out test set is significantly higher than the validation set, this indicates overfitting.\n",
    "\n",
    "Finally, lets evaluate the model visually. The full blue line is the desired output which corresponds to an exact prediction. The dashed blue lines represent the 10% error threshold."
   ]
  },
  {
   "cell_type": "code",
   "execution_count": 200,
   "metadata": {},
   "outputs": [
    {
     "data": {
      "image/png": "[encoded data removed]",
      "text/plain": [
       "<Figure size 432x288 with 1 Axes>"
      ]
     },
     "metadata": {
      "needs_background": "light"
     },
     "output_type": "display_data"
    }
   ],
   "source": [
    "plt.scatter(y_train, y_pred_train, alpha=0.1, label=\"Train\")\n",
    "plt.scatter(y_val, y_pred_val, alpha=0.3, label=\"Validation\")\n",
    "plt.scatter(y_test, y_pred_test, alpha=0.5, label=\"Test\")\n",
    "plt.legend()\n",
    "plt.xlabel('ground truth')\n",
    "plt.ylabel('prediction')\n",
    "min = np.min(data['experiment: Tboil /K'])\n",
    "max = np.max(data['experiment: Tboil /K'])\n",
    "plt.plot([min, max], [min, max], c=\"b\")\n",
    "plt.plot([min, max], [0.9*min, 0.9*max], c=\"b\", linestyle='--')\n",
    "plt.plot([min, max], [1.1*min, 1.1*max], c=\"b\", linestyle='--')\n",
    "plt.text(0.8*max, 0.65*max, '-10%')\n",
    "plt.text(0.6*max, 0.8*max, '+10%')\n",
    "plt.title('Pareto chart')\n",
    "plt.show()"
   ]
  },
  {
   "cell_type": "markdown",
   "metadata": {},
   "source": [
    "## 2.6 - Conclusion"
   ]
  },
  {
   "cell_type": "markdown",
   "metadata": {},
   "source": [
    "In the second half of the lab we demonstrated how to use a neural network for a complex regression like a QSPR model. For five given descriptors, we created a fingerprint and used it to train the neural network."
   ]
  }
 ],
 "metadata": {
  "interpreter": {
   "hash": "8a6378035587bb97055001603ea9d85a2aa377cc6252a50ffca4355a71bc8b90"
  },
  "kernelspec": {
   "display_name": "Python 3.8.10 64-bit",
   "name": "python3"
  },
  "language_info": {
   "codemirror_mode": {
    "name": "ipython",
    "version": 3
   },
   "file_extension": ".py",
   "mimetype": "text/x-python",
   "name": "python",
   "nbconvert_exporter": "python",
   "pygments_lexer": "ipython3",
   "version": "3.8.10"
  }
 },
 "nbformat": 4,
 "nbformat_minor": 2
}
